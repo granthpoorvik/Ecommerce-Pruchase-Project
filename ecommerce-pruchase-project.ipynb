{
 "cells": [
  {
   "cell_type": "code",
   "execution_count": 1,
   "id": "c35b0c3a",
   "metadata": {
    "_cell_guid": "b1076dfc-b9ad-4769-8c92-a6c4dae69d19",
    "_uuid": "8f2839f25d086af736a60e9eeb907d3b93b6e0e5",
    "execution": {
     "iopub.execute_input": "2023-11-09T11:45:18.138408Z",
     "iopub.status.busy": "2023-11-09T11:45:18.138008Z",
     "iopub.status.idle": "2023-11-09T11:45:18.565831Z",
     "shell.execute_reply": "2023-11-09T11:45:18.564438Z"
    },
    "papermill": {
     "duration": 0.440494,
     "end_time": "2023-11-09T11:45:18.568671",
     "exception": false,
     "start_time": "2023-11-09T11:45:18.128177",
     "status": "completed"
    },
    "tags": []
   },
   "outputs": [
    {
     "name": "stdout",
     "output_type": "stream",
     "text": [
      "/kaggle/input/ecommerce-purchases/Ecommerce Purchases\n"
     ]
    }
   ],
   "source": [
    "# This Python 3 environment comes with many helpful analytics libraries installed\n",
    "# It is defined by the kaggle/python Docker image: https://github.com/kaggle/docker-python\n",
    "# For example, here's several helpful packages to load\n",
    "\n",
    "import numpy as np # linear algebra\n",
    "import pandas as pd # data processing, CSV file I/O (e.g. pd.read_csv)\n",
    "\n",
    "# Input data files are available in the read-only \"../input/\" directory\n",
    "# For example, running this (by clicking run or pressing Shift+Enter) will list all files under the input directory\n",
    "\n",
    "import os\n",
    "for dirname, _, filenames in os.walk('/kaggle/input'):\n",
    "    for filename in filenames:\n",
    "        print(os.path.join(dirname, filename))\n",
    "\n",
    "# You can write up to 20GB to the current directory (/kaggle/working/) that gets preserved as output when you create a version using \"Save & Run All\" \n",
    "# You can also write temporary files to /kaggle/temp/, but they won't be saved outside of the current session"
   ]
  },
  {
   "cell_type": "code",
   "execution_count": 2,
   "id": "fd792037",
   "metadata": {
    "execution": {
     "iopub.execute_input": "2023-11-09T11:45:18.586197Z",
     "iopub.status.busy": "2023-11-09T11:45:18.585690Z",
     "iopub.status.idle": "2023-11-09T11:45:18.711991Z",
     "shell.execute_reply": "2023-11-09T11:45:18.710721Z"
    },
    "papermill": {
     "duration": 0.138414,
     "end_time": "2023-11-09T11:45:18.714869",
     "exception": false,
     "start_time": "2023-11-09T11:45:18.576455",
     "status": "completed"
    },
    "tags": []
   },
   "outputs": [],
   "source": [
    "data=pd.read_csv(\"/kaggle/input/ecommerce-purchases/Ecommerce Purchases\")"
   ]
  },
  {
   "cell_type": "code",
   "execution_count": 3,
   "id": "03342402",
   "metadata": {
    "execution": {
     "iopub.execute_input": "2023-11-09T11:45:18.732059Z",
     "iopub.status.busy": "2023-11-09T11:45:18.731644Z",
     "iopub.status.idle": "2023-11-09T11:45:18.777425Z",
     "shell.execute_reply": "2023-11-09T11:45:18.776253Z"
    },
    "papermill": {
     "duration": 0.057766,
     "end_time": "2023-11-09T11:45:18.780408",
     "exception": false,
     "start_time": "2023-11-09T11:45:18.722642",
     "status": "completed"
    },
    "tags": []
   },
   "outputs": [
    {
     "data": {
      "text/html": [
       "<div>\n",
       "<style scoped>\n",
       "    .dataframe tbody tr th:only-of-type {\n",
       "        vertical-align: middle;\n",
       "    }\n",
       "\n",
       "    .dataframe tbody tr th {\n",
       "        vertical-align: top;\n",
       "    }\n",
       "\n",
       "    .dataframe thead th {\n",
       "        text-align: right;\n",
       "    }\n",
       "</style>\n",
       "<table border=\"1\" class=\"dataframe\">\n",
       "  <thead>\n",
       "    <tr style=\"text-align: right;\">\n",
       "      <th></th>\n",
       "      <th>Address</th>\n",
       "      <th>Lot</th>\n",
       "      <th>AM or PM</th>\n",
       "      <th>Browser Info</th>\n",
       "      <th>Company</th>\n",
       "      <th>Credit Card</th>\n",
       "      <th>CC Exp Date</th>\n",
       "      <th>CC Security Code</th>\n",
       "      <th>CC Provider</th>\n",
       "      <th>Email</th>\n",
       "      <th>Job</th>\n",
       "      <th>IP Address</th>\n",
       "      <th>Language</th>\n",
       "      <th>Purchase Price</th>\n",
       "    </tr>\n",
       "  </thead>\n",
       "  <tbody>\n",
       "    <tr>\n",
       "      <th>0</th>\n",
       "      <td>16629 Pace Camp Apt. 448\\nAlexisborough, NE 77...</td>\n",
       "      <td>46 in</td>\n",
       "      <td>PM</td>\n",
       "      <td>Opera/9.56.(X11; Linux x86_64; sl-SI) Presto/2...</td>\n",
       "      <td>Martinez-Herman</td>\n",
       "      <td>6011929061123406</td>\n",
       "      <td>02/20</td>\n",
       "      <td>900</td>\n",
       "      <td>JCB 16 digit</td>\n",
       "      <td>pdunlap@yahoo.com</td>\n",
       "      <td>Scientist, product/process development</td>\n",
       "      <td>149.146.147.205</td>\n",
       "      <td>el</td>\n",
       "      <td>98.14</td>\n",
       "    </tr>\n",
       "    <tr>\n",
       "      <th>1</th>\n",
       "      <td>9374 Jasmine Spurs Suite 508\\nSouth John, TN 8...</td>\n",
       "      <td>28 rn</td>\n",
       "      <td>PM</td>\n",
       "      <td>Opera/8.93.(Windows 98; Win 9x 4.90; en-US) Pr...</td>\n",
       "      <td>Fletcher, Richards and Whitaker</td>\n",
       "      <td>3337758169645356</td>\n",
       "      <td>11/18</td>\n",
       "      <td>561</td>\n",
       "      <td>Mastercard</td>\n",
       "      <td>anthony41@reed.com</td>\n",
       "      <td>Drilling engineer</td>\n",
       "      <td>15.160.41.51</td>\n",
       "      <td>fr</td>\n",
       "      <td>70.73</td>\n",
       "    </tr>\n",
       "    <tr>\n",
       "      <th>2</th>\n",
       "      <td>Unit 0065 Box 5052\\nDPO AP 27450</td>\n",
       "      <td>94 vE</td>\n",
       "      <td>PM</td>\n",
       "      <td>Mozilla/5.0 (compatible; MSIE 9.0; Windows NT ...</td>\n",
       "      <td>Simpson, Williams and Pham</td>\n",
       "      <td>675957666125</td>\n",
       "      <td>08/19</td>\n",
       "      <td>699</td>\n",
       "      <td>JCB 16 digit</td>\n",
       "      <td>amymiller@morales-harrison.com</td>\n",
       "      <td>Customer service manager</td>\n",
       "      <td>132.207.160.22</td>\n",
       "      <td>de</td>\n",
       "      <td>0.95</td>\n",
       "    </tr>\n",
       "    <tr>\n",
       "      <th>3</th>\n",
       "      <td>7780 Julia Fords\\nNew Stacy, WA 45798</td>\n",
       "      <td>36 vm</td>\n",
       "      <td>PM</td>\n",
       "      <td>Mozilla/5.0 (Macintosh; Intel Mac OS X 10_8_0 ...</td>\n",
       "      <td>Williams, Marshall and Buchanan</td>\n",
       "      <td>6011578504430710</td>\n",
       "      <td>02/24</td>\n",
       "      <td>384</td>\n",
       "      <td>Discover</td>\n",
       "      <td>brent16@olson-robinson.info</td>\n",
       "      <td>Drilling engineer</td>\n",
       "      <td>30.250.74.19</td>\n",
       "      <td>es</td>\n",
       "      <td>78.04</td>\n",
       "    </tr>\n",
       "    <tr>\n",
       "      <th>4</th>\n",
       "      <td>23012 Munoz Drive Suite 337\\nNew Cynthia, TX 5...</td>\n",
       "      <td>20 IE</td>\n",
       "      <td>AM</td>\n",
       "      <td>Opera/9.58.(X11; Linux x86_64; it-IT) Presto/2...</td>\n",
       "      <td>Brown, Watson and Andrews</td>\n",
       "      <td>6011456623207998</td>\n",
       "      <td>10/25</td>\n",
       "      <td>678</td>\n",
       "      <td>Diners Club / Carte Blanche</td>\n",
       "      <td>christopherwright@gmail.com</td>\n",
       "      <td>Fine artist</td>\n",
       "      <td>24.140.33.94</td>\n",
       "      <td>es</td>\n",
       "      <td>77.82</td>\n",
       "    </tr>\n",
       "    <tr>\n",
       "      <th>...</th>\n",
       "      <td>...</td>\n",
       "      <td>...</td>\n",
       "      <td>...</td>\n",
       "      <td>...</td>\n",
       "      <td>...</td>\n",
       "      <td>...</td>\n",
       "      <td>...</td>\n",
       "      <td>...</td>\n",
       "      <td>...</td>\n",
       "      <td>...</td>\n",
       "      <td>...</td>\n",
       "      <td>...</td>\n",
       "      <td>...</td>\n",
       "      <td>...</td>\n",
       "    </tr>\n",
       "    <tr>\n",
       "      <th>9995</th>\n",
       "      <td>966 Castaneda Locks\\nWest Juliafurt, CO 96415</td>\n",
       "      <td>92 XI</td>\n",
       "      <td>PM</td>\n",
       "      <td>Mozilla/5.0 (Windows NT 5.1) AppleWebKit/5352 ...</td>\n",
       "      <td>Randall-Sloan</td>\n",
       "      <td>342945015358701</td>\n",
       "      <td>03/22</td>\n",
       "      <td>838</td>\n",
       "      <td>JCB 15 digit</td>\n",
       "      <td>iscott@wade-garner.com</td>\n",
       "      <td>Printmaker</td>\n",
       "      <td>29.73.197.114</td>\n",
       "      <td>it</td>\n",
       "      <td>82.21</td>\n",
       "    </tr>\n",
       "    <tr>\n",
       "      <th>9996</th>\n",
       "      <td>832 Curtis Dam Suite 785\\nNorth Edwardburgh, T...</td>\n",
       "      <td>41 JY</td>\n",
       "      <td>AM</td>\n",
       "      <td>Mozilla/5.0 (compatible; MSIE 9.0; Windows NT ...</td>\n",
       "      <td>Hale, Collins and Wilson</td>\n",
       "      <td>210033169205009</td>\n",
       "      <td>07/25</td>\n",
       "      <td>207</td>\n",
       "      <td>JCB 16 digit</td>\n",
       "      <td>mary85@hotmail.com</td>\n",
       "      <td>Energy engineer</td>\n",
       "      <td>121.133.168.51</td>\n",
       "      <td>pt</td>\n",
       "      <td>25.63</td>\n",
       "    </tr>\n",
       "    <tr>\n",
       "      <th>9997</th>\n",
       "      <td>Unit 4434 Box 6343\\nDPO AE 28026-0283</td>\n",
       "      <td>74 Zh</td>\n",
       "      <td>AM</td>\n",
       "      <td>Mozilla/5.0 (Macintosh; U; Intel Mac OS X 10_7...</td>\n",
       "      <td>Anderson Ltd</td>\n",
       "      <td>6011539787356311</td>\n",
       "      <td>05/21</td>\n",
       "      <td>1</td>\n",
       "      <td>VISA 16 digit</td>\n",
       "      <td>tyler16@gmail.com</td>\n",
       "      <td>Veterinary surgeon</td>\n",
       "      <td>156.210.0.254</td>\n",
       "      <td>el</td>\n",
       "      <td>83.98</td>\n",
       "    </tr>\n",
       "    <tr>\n",
       "      <th>9998</th>\n",
       "      <td>0096 English Rest\\nRoystad, IA 12457</td>\n",
       "      <td>74 cL</td>\n",
       "      <td>PM</td>\n",
       "      <td>Mozilla/5.0 (Macintosh; Intel Mac OS X 10_8_8;...</td>\n",
       "      <td>Cook Inc</td>\n",
       "      <td>180003348082930</td>\n",
       "      <td>11/17</td>\n",
       "      <td>987</td>\n",
       "      <td>American Express</td>\n",
       "      <td>elizabethmoore@reid.net</td>\n",
       "      <td>Local government officer</td>\n",
       "      <td>55.78.26.143</td>\n",
       "      <td>es</td>\n",
       "      <td>38.84</td>\n",
       "    </tr>\n",
       "    <tr>\n",
       "      <th>9999</th>\n",
       "      <td>40674 Barrett Stravenue\\nGrimesville, WI 79682</td>\n",
       "      <td>64 Hr</td>\n",
       "      <td>AM</td>\n",
       "      <td>Mozilla/5.0 (X11; Linux i686; rv:1.9.5.20) Gec...</td>\n",
       "      <td>Greene Inc</td>\n",
       "      <td>4139972901927273</td>\n",
       "      <td>02/19</td>\n",
       "      <td>302</td>\n",
       "      <td>JCB 15 digit</td>\n",
       "      <td>rachelford@vaughn.com</td>\n",
       "      <td>Embryologist, clinical</td>\n",
       "      <td>176.119.198.199</td>\n",
       "      <td>el</td>\n",
       "      <td>67.59</td>\n",
       "    </tr>\n",
       "  </tbody>\n",
       "</table>\n",
       "<p>10000 rows × 14 columns</p>\n",
       "</div>"
      ],
      "text/plain": [
       "                                                Address    Lot AM or PM  \\\n",
       "0     16629 Pace Camp Apt. 448\\nAlexisborough, NE 77...  46 in       PM   \n",
       "1     9374 Jasmine Spurs Suite 508\\nSouth John, TN 8...  28 rn       PM   \n",
       "2                      Unit 0065 Box 5052\\nDPO AP 27450  94 vE       PM   \n",
       "3                 7780 Julia Fords\\nNew Stacy, WA 45798  36 vm       PM   \n",
       "4     23012 Munoz Drive Suite 337\\nNew Cynthia, TX 5...  20 IE       AM   \n",
       "...                                                 ...    ...      ...   \n",
       "9995      966 Castaneda Locks\\nWest Juliafurt, CO 96415  92 XI       PM   \n",
       "9996  832 Curtis Dam Suite 785\\nNorth Edwardburgh, T...  41 JY       AM   \n",
       "9997              Unit 4434 Box 6343\\nDPO AE 28026-0283  74 Zh       AM   \n",
       "9998               0096 English Rest\\nRoystad, IA 12457  74 cL       PM   \n",
       "9999     40674 Barrett Stravenue\\nGrimesville, WI 79682  64 Hr       AM   \n",
       "\n",
       "                                           Browser Info  \\\n",
       "0     Opera/9.56.(X11; Linux x86_64; sl-SI) Presto/2...   \n",
       "1     Opera/8.93.(Windows 98; Win 9x 4.90; en-US) Pr...   \n",
       "2     Mozilla/5.0 (compatible; MSIE 9.0; Windows NT ...   \n",
       "3     Mozilla/5.0 (Macintosh; Intel Mac OS X 10_8_0 ...   \n",
       "4     Opera/9.58.(X11; Linux x86_64; it-IT) Presto/2...   \n",
       "...                                                 ...   \n",
       "9995  Mozilla/5.0 (Windows NT 5.1) AppleWebKit/5352 ...   \n",
       "9996  Mozilla/5.0 (compatible; MSIE 9.0; Windows NT ...   \n",
       "9997  Mozilla/5.0 (Macintosh; U; Intel Mac OS X 10_7...   \n",
       "9998  Mozilla/5.0 (Macintosh; Intel Mac OS X 10_8_8;...   \n",
       "9999  Mozilla/5.0 (X11; Linux i686; rv:1.9.5.20) Gec...   \n",
       "\n",
       "                              Company       Credit Card CC Exp Date  \\\n",
       "0                     Martinez-Herman  6011929061123406       02/20   \n",
       "1     Fletcher, Richards and Whitaker  3337758169645356       11/18   \n",
       "2          Simpson, Williams and Pham      675957666125       08/19   \n",
       "3     Williams, Marshall and Buchanan  6011578504430710       02/24   \n",
       "4           Brown, Watson and Andrews  6011456623207998       10/25   \n",
       "...                               ...               ...         ...   \n",
       "9995                    Randall-Sloan   342945015358701       03/22   \n",
       "9996         Hale, Collins and Wilson   210033169205009       07/25   \n",
       "9997                     Anderson Ltd  6011539787356311       05/21   \n",
       "9998                         Cook Inc   180003348082930       11/17   \n",
       "9999                       Greene Inc  4139972901927273       02/19   \n",
       "\n",
       "      CC Security Code                  CC Provider  \\\n",
       "0                  900                 JCB 16 digit   \n",
       "1                  561                   Mastercard   \n",
       "2                  699                 JCB 16 digit   \n",
       "3                  384                     Discover   \n",
       "4                  678  Diners Club / Carte Blanche   \n",
       "...                ...                          ...   \n",
       "9995               838                 JCB 15 digit   \n",
       "9996               207                 JCB 16 digit   \n",
       "9997                 1                VISA 16 digit   \n",
       "9998               987             American Express   \n",
       "9999               302                 JCB 15 digit   \n",
       "\n",
       "                               Email                                     Job  \\\n",
       "0                  pdunlap@yahoo.com  Scientist, product/process development   \n",
       "1                 anthony41@reed.com                       Drilling engineer   \n",
       "2     amymiller@morales-harrison.com                Customer service manager   \n",
       "3        brent16@olson-robinson.info                       Drilling engineer   \n",
       "4        christopherwright@gmail.com                             Fine artist   \n",
       "...                              ...                                     ...   \n",
       "9995          iscott@wade-garner.com                              Printmaker   \n",
       "9996              mary85@hotmail.com                         Energy engineer   \n",
       "9997               tyler16@gmail.com                      Veterinary surgeon   \n",
       "9998         elizabethmoore@reid.net                Local government officer   \n",
       "9999           rachelford@vaughn.com                  Embryologist, clinical   \n",
       "\n",
       "           IP Address Language  Purchase Price  \n",
       "0     149.146.147.205       el           98.14  \n",
       "1        15.160.41.51       fr           70.73  \n",
       "2      132.207.160.22       de            0.95  \n",
       "3        30.250.74.19       es           78.04  \n",
       "4        24.140.33.94       es           77.82  \n",
       "...               ...      ...             ...  \n",
       "9995    29.73.197.114       it           82.21  \n",
       "9996   121.133.168.51       pt           25.63  \n",
       "9997    156.210.0.254       el           83.98  \n",
       "9998     55.78.26.143       es           38.84  \n",
       "9999  176.119.198.199       el           67.59  \n",
       "\n",
       "[10000 rows x 14 columns]"
      ]
     },
     "execution_count": 3,
     "metadata": {},
     "output_type": "execute_result"
    }
   ],
   "source": [
    "data\n"
   ]
  },
  {
   "cell_type": "code",
   "execution_count": 4,
   "id": "a2210eb3",
   "metadata": {
    "execution": {
     "iopub.execute_input": "2023-11-09T11:45:18.799217Z",
     "iopub.status.busy": "2023-11-09T11:45:18.798410Z",
     "iopub.status.idle": "2023-11-09T11:45:18.821552Z",
     "shell.execute_reply": "2023-11-09T11:45:18.820434Z"
    },
    "papermill": {
     "duration": 0.035511,
     "end_time": "2023-11-09T11:45:18.824195",
     "exception": false,
     "start_time": "2023-11-09T11:45:18.788684",
     "status": "completed"
    },
    "tags": []
   },
   "outputs": [
    {
     "data": {
      "text/html": [
       "<div>\n",
       "<style scoped>\n",
       "    .dataframe tbody tr th:only-of-type {\n",
       "        vertical-align: middle;\n",
       "    }\n",
       "\n",
       "    .dataframe tbody tr th {\n",
       "        vertical-align: top;\n",
       "    }\n",
       "\n",
       "    .dataframe thead th {\n",
       "        text-align: right;\n",
       "    }\n",
       "</style>\n",
       "<table border=\"1\" class=\"dataframe\">\n",
       "  <thead>\n",
       "    <tr style=\"text-align: right;\">\n",
       "      <th></th>\n",
       "      <th>Address</th>\n",
       "      <th>Lot</th>\n",
       "      <th>AM or PM</th>\n",
       "      <th>Browser Info</th>\n",
       "      <th>Company</th>\n",
       "      <th>Credit Card</th>\n",
       "      <th>CC Exp Date</th>\n",
       "      <th>CC Security Code</th>\n",
       "      <th>CC Provider</th>\n",
       "      <th>Email</th>\n",
       "      <th>Job</th>\n",
       "      <th>IP Address</th>\n",
       "      <th>Language</th>\n",
       "      <th>Purchase Price</th>\n",
       "    </tr>\n",
       "  </thead>\n",
       "  <tbody>\n",
       "    <tr>\n",
       "      <th>0</th>\n",
       "      <td>16629 Pace Camp Apt. 448\\nAlexisborough, NE 77...</td>\n",
       "      <td>46 in</td>\n",
       "      <td>PM</td>\n",
       "      <td>Opera/9.56.(X11; Linux x86_64; sl-SI) Presto/2...</td>\n",
       "      <td>Martinez-Herman</td>\n",
       "      <td>6011929061123406</td>\n",
       "      <td>02/20</td>\n",
       "      <td>900</td>\n",
       "      <td>JCB 16 digit</td>\n",
       "      <td>pdunlap@yahoo.com</td>\n",
       "      <td>Scientist, product/process development</td>\n",
       "      <td>149.146.147.205</td>\n",
       "      <td>el</td>\n",
       "      <td>98.14</td>\n",
       "    </tr>\n",
       "    <tr>\n",
       "      <th>1</th>\n",
       "      <td>9374 Jasmine Spurs Suite 508\\nSouth John, TN 8...</td>\n",
       "      <td>28 rn</td>\n",
       "      <td>PM</td>\n",
       "      <td>Opera/8.93.(Windows 98; Win 9x 4.90; en-US) Pr...</td>\n",
       "      <td>Fletcher, Richards and Whitaker</td>\n",
       "      <td>3337758169645356</td>\n",
       "      <td>11/18</td>\n",
       "      <td>561</td>\n",
       "      <td>Mastercard</td>\n",
       "      <td>anthony41@reed.com</td>\n",
       "      <td>Drilling engineer</td>\n",
       "      <td>15.160.41.51</td>\n",
       "      <td>fr</td>\n",
       "      <td>70.73</td>\n",
       "    </tr>\n",
       "    <tr>\n",
       "      <th>2</th>\n",
       "      <td>Unit 0065 Box 5052\\nDPO AP 27450</td>\n",
       "      <td>94 vE</td>\n",
       "      <td>PM</td>\n",
       "      <td>Mozilla/5.0 (compatible; MSIE 9.0; Windows NT ...</td>\n",
       "      <td>Simpson, Williams and Pham</td>\n",
       "      <td>675957666125</td>\n",
       "      <td>08/19</td>\n",
       "      <td>699</td>\n",
       "      <td>JCB 16 digit</td>\n",
       "      <td>amymiller@morales-harrison.com</td>\n",
       "      <td>Customer service manager</td>\n",
       "      <td>132.207.160.22</td>\n",
       "      <td>de</td>\n",
       "      <td>0.95</td>\n",
       "    </tr>\n",
       "    <tr>\n",
       "      <th>3</th>\n",
       "      <td>7780 Julia Fords\\nNew Stacy, WA 45798</td>\n",
       "      <td>36 vm</td>\n",
       "      <td>PM</td>\n",
       "      <td>Mozilla/5.0 (Macintosh; Intel Mac OS X 10_8_0 ...</td>\n",
       "      <td>Williams, Marshall and Buchanan</td>\n",
       "      <td>6011578504430710</td>\n",
       "      <td>02/24</td>\n",
       "      <td>384</td>\n",
       "      <td>Discover</td>\n",
       "      <td>brent16@olson-robinson.info</td>\n",
       "      <td>Drilling engineer</td>\n",
       "      <td>30.250.74.19</td>\n",
       "      <td>es</td>\n",
       "      <td>78.04</td>\n",
       "    </tr>\n",
       "    <tr>\n",
       "      <th>4</th>\n",
       "      <td>23012 Munoz Drive Suite 337\\nNew Cynthia, TX 5...</td>\n",
       "      <td>20 IE</td>\n",
       "      <td>AM</td>\n",
       "      <td>Opera/9.58.(X11; Linux x86_64; it-IT) Presto/2...</td>\n",
       "      <td>Brown, Watson and Andrews</td>\n",
       "      <td>6011456623207998</td>\n",
       "      <td>10/25</td>\n",
       "      <td>678</td>\n",
       "      <td>Diners Club / Carte Blanche</td>\n",
       "      <td>christopherwright@gmail.com</td>\n",
       "      <td>Fine artist</td>\n",
       "      <td>24.140.33.94</td>\n",
       "      <td>es</td>\n",
       "      <td>77.82</td>\n",
       "    </tr>\n",
       "    <tr>\n",
       "      <th>5</th>\n",
       "      <td>7502 Powell Mission Apt. 768\\nTravisland, VA 3...</td>\n",
       "      <td>21 XT</td>\n",
       "      <td>PM</td>\n",
       "      <td>Mozilla/5.0 (Macintosh; U; PPC Mac OS X 10_8_5...</td>\n",
       "      <td>Silva-Anderson</td>\n",
       "      <td>30246185196287</td>\n",
       "      <td>07/25</td>\n",
       "      <td>7169</td>\n",
       "      <td>Discover</td>\n",
       "      <td>ynguyen@gmail.com</td>\n",
       "      <td>Fish farm manager</td>\n",
       "      <td>55.96.152.147</td>\n",
       "      <td>ru</td>\n",
       "      <td>25.15</td>\n",
       "    </tr>\n",
       "    <tr>\n",
       "      <th>6</th>\n",
       "      <td>93971 Conway Causeway\\nAndersonburgh, AZ 75107</td>\n",
       "      <td>96 Xt</td>\n",
       "      <td>AM</td>\n",
       "      <td>Mozilla/5.0 (compatible; MSIE 7.0; Windows NT ...</td>\n",
       "      <td>Gibson and Sons</td>\n",
       "      <td>6011398782655569</td>\n",
       "      <td>07/24</td>\n",
       "      <td>714</td>\n",
       "      <td>VISA 16 digit</td>\n",
       "      <td>olivia04@yahoo.com</td>\n",
       "      <td>Dancer</td>\n",
       "      <td>127.252.144.18</td>\n",
       "      <td>de</td>\n",
       "      <td>88.56</td>\n",
       "    </tr>\n",
       "    <tr>\n",
       "      <th>7</th>\n",
       "      <td>260 Rachel Plains Suite 366\\nCastroberg, WV 24...</td>\n",
       "      <td>96 pG</td>\n",
       "      <td>PM</td>\n",
       "      <td>Mozilla/5.0 (X11; Linux i686) AppleWebKit/5350...</td>\n",
       "      <td>Marshall-Collins</td>\n",
       "      <td>561252141909</td>\n",
       "      <td>06/25</td>\n",
       "      <td>256</td>\n",
       "      <td>VISA 13 digit</td>\n",
       "      <td>phillip48@parks.info</td>\n",
       "      <td>Event organiser</td>\n",
       "      <td>224.247.97.150</td>\n",
       "      <td>pt</td>\n",
       "      <td>44.25</td>\n",
       "    </tr>\n",
       "    <tr>\n",
       "      <th>8</th>\n",
       "      <td>2129 Dylan Burg\\nNew Michelle, ME 28650</td>\n",
       "      <td>45 JN</td>\n",
       "      <td>PM</td>\n",
       "      <td>Mozilla/5.0 (Macintosh; U; Intel Mac OS X 10_7...</td>\n",
       "      <td>Galloway and Sons</td>\n",
       "      <td>180041795790001</td>\n",
       "      <td>04/24</td>\n",
       "      <td>899</td>\n",
       "      <td>JCB 16 digit</td>\n",
       "      <td>kdavis@rasmussen.com</td>\n",
       "      <td>Financial manager</td>\n",
       "      <td>146.234.201.229</td>\n",
       "      <td>ru</td>\n",
       "      <td>59.54</td>\n",
       "    </tr>\n",
       "    <tr>\n",
       "      <th>9</th>\n",
       "      <td>3795 Dawson Extensions\\nLake Tinafort, ID 88739</td>\n",
       "      <td>15 Ug</td>\n",
       "      <td>AM</td>\n",
       "      <td>Mozilla/5.0 (X11; Linux i686; rv:1.9.7.20) Gec...</td>\n",
       "      <td>Rivera, Buchanan and Ramirez</td>\n",
       "      <td>4396283918371</td>\n",
       "      <td>01/17</td>\n",
       "      <td>931</td>\n",
       "      <td>American Express</td>\n",
       "      <td>qcoleman@hunt-huerta.com</td>\n",
       "      <td>Forensic scientist</td>\n",
       "      <td>236.198.199.8</td>\n",
       "      <td>zh</td>\n",
       "      <td>95.63</td>\n",
       "    </tr>\n",
       "  </tbody>\n",
       "</table>\n",
       "</div>"
      ],
      "text/plain": [
       "                                             Address    Lot AM or PM  \\\n",
       "0  16629 Pace Camp Apt. 448\\nAlexisborough, NE 77...  46 in       PM   \n",
       "1  9374 Jasmine Spurs Suite 508\\nSouth John, TN 8...  28 rn       PM   \n",
       "2                   Unit 0065 Box 5052\\nDPO AP 27450  94 vE       PM   \n",
       "3              7780 Julia Fords\\nNew Stacy, WA 45798  36 vm       PM   \n",
       "4  23012 Munoz Drive Suite 337\\nNew Cynthia, TX 5...  20 IE       AM   \n",
       "5  7502 Powell Mission Apt. 768\\nTravisland, VA 3...  21 XT       PM   \n",
       "6     93971 Conway Causeway\\nAndersonburgh, AZ 75107  96 Xt       AM   \n",
       "7  260 Rachel Plains Suite 366\\nCastroberg, WV 24...  96 pG       PM   \n",
       "8            2129 Dylan Burg\\nNew Michelle, ME 28650  45 JN       PM   \n",
       "9    3795 Dawson Extensions\\nLake Tinafort, ID 88739  15 Ug       AM   \n",
       "\n",
       "                                        Browser Info  \\\n",
       "0  Opera/9.56.(X11; Linux x86_64; sl-SI) Presto/2...   \n",
       "1  Opera/8.93.(Windows 98; Win 9x 4.90; en-US) Pr...   \n",
       "2  Mozilla/5.0 (compatible; MSIE 9.0; Windows NT ...   \n",
       "3  Mozilla/5.0 (Macintosh; Intel Mac OS X 10_8_0 ...   \n",
       "4  Opera/9.58.(X11; Linux x86_64; it-IT) Presto/2...   \n",
       "5  Mozilla/5.0 (Macintosh; U; PPC Mac OS X 10_8_5...   \n",
       "6  Mozilla/5.0 (compatible; MSIE 7.0; Windows NT ...   \n",
       "7  Mozilla/5.0 (X11; Linux i686) AppleWebKit/5350...   \n",
       "8  Mozilla/5.0 (Macintosh; U; Intel Mac OS X 10_7...   \n",
       "9  Mozilla/5.0 (X11; Linux i686; rv:1.9.7.20) Gec...   \n",
       "\n",
       "                           Company       Credit Card CC Exp Date  \\\n",
       "0                  Martinez-Herman  6011929061123406       02/20   \n",
       "1  Fletcher, Richards and Whitaker  3337758169645356       11/18   \n",
       "2       Simpson, Williams and Pham      675957666125       08/19   \n",
       "3  Williams, Marshall and Buchanan  6011578504430710       02/24   \n",
       "4        Brown, Watson and Andrews  6011456623207998       10/25   \n",
       "5                   Silva-Anderson    30246185196287       07/25   \n",
       "6                  Gibson and Sons  6011398782655569       07/24   \n",
       "7                 Marshall-Collins      561252141909       06/25   \n",
       "8                Galloway and Sons   180041795790001       04/24   \n",
       "9     Rivera, Buchanan and Ramirez     4396283918371       01/17   \n",
       "\n",
       "   CC Security Code                  CC Provider  \\\n",
       "0               900                 JCB 16 digit   \n",
       "1               561                   Mastercard   \n",
       "2               699                 JCB 16 digit   \n",
       "3               384                     Discover   \n",
       "4               678  Diners Club / Carte Blanche   \n",
       "5              7169                     Discover   \n",
       "6               714                VISA 16 digit   \n",
       "7               256                VISA 13 digit   \n",
       "8               899                 JCB 16 digit   \n",
       "9               931             American Express   \n",
       "\n",
       "                            Email                                     Job  \\\n",
       "0               pdunlap@yahoo.com  Scientist, product/process development   \n",
       "1              anthony41@reed.com                       Drilling engineer   \n",
       "2  amymiller@morales-harrison.com                Customer service manager   \n",
       "3     brent16@olson-robinson.info                       Drilling engineer   \n",
       "4     christopherwright@gmail.com                             Fine artist   \n",
       "5               ynguyen@gmail.com                       Fish farm manager   \n",
       "6              olivia04@yahoo.com                                  Dancer   \n",
       "7            phillip48@parks.info                         Event organiser   \n",
       "8            kdavis@rasmussen.com                       Financial manager   \n",
       "9        qcoleman@hunt-huerta.com                      Forensic scientist   \n",
       "\n",
       "        IP Address Language  Purchase Price  \n",
       "0  149.146.147.205       el           98.14  \n",
       "1     15.160.41.51       fr           70.73  \n",
       "2   132.207.160.22       de            0.95  \n",
       "3     30.250.74.19       es           78.04  \n",
       "4     24.140.33.94       es           77.82  \n",
       "5    55.96.152.147       ru           25.15  \n",
       "6   127.252.144.18       de           88.56  \n",
       "7   224.247.97.150       pt           44.25  \n",
       "8  146.234.201.229       ru           59.54  \n",
       "9    236.198.199.8       zh           95.63  "
      ]
     },
     "execution_count": 4,
     "metadata": {},
     "output_type": "execute_result"
    }
   ],
   "source": [
    "data.head(10)"
   ]
  },
  {
   "cell_type": "code",
   "execution_count": 5,
   "id": "453b8f68",
   "metadata": {
    "execution": {
     "iopub.execute_input": "2023-11-09T11:45:18.844022Z",
     "iopub.status.busy": "2023-11-09T11:45:18.842981Z",
     "iopub.status.idle": "2023-11-09T11:45:18.851696Z",
     "shell.execute_reply": "2023-11-09T11:45:18.850844Z"
    },
    "papermill": {
     "duration": 0.021123,
     "end_time": "2023-11-09T11:45:18.853998",
     "exception": false,
     "start_time": "2023-11-09T11:45:18.832875",
     "status": "completed"
    },
    "tags": []
   },
   "outputs": [
    {
     "data": {
      "text/plain": [
       "Address              object\n",
       "Lot                  object\n",
       "AM or PM             object\n",
       "Browser Info         object\n",
       "Company              object\n",
       "Credit Card           int64\n",
       "CC Exp Date          object\n",
       "CC Security Code      int64\n",
       "CC Provider          object\n",
       "Email                object\n",
       "Job                  object\n",
       "IP Address           object\n",
       "Language             object\n",
       "Purchase Price      float64\n",
       "dtype: object"
      ]
     },
     "execution_count": 5,
     "metadata": {},
     "output_type": "execute_result"
    }
   ],
   "source": [
    "data.dtypes"
   ]
  },
  {
   "cell_type": "code",
   "execution_count": 6,
   "id": "2359d13d",
   "metadata": {
    "execution": {
     "iopub.execute_input": "2023-11-09T11:45:18.875126Z",
     "iopub.status.busy": "2023-11-09T11:45:18.874111Z",
     "iopub.status.idle": "2023-11-09T11:45:18.898313Z",
     "shell.execute_reply": "2023-11-09T11:45:18.897236Z"
    },
    "papermill": {
     "duration": 0.037928,
     "end_time": "2023-11-09T11:45:18.901052",
     "exception": false,
     "start_time": "2023-11-09T11:45:18.863124",
     "status": "completed"
    },
    "tags": []
   },
   "outputs": [
    {
     "data": {
      "text/plain": [
       "Address             0\n",
       "Lot                 0\n",
       "AM or PM            0\n",
       "Browser Info        0\n",
       "Company             0\n",
       "Credit Card         0\n",
       "CC Exp Date         0\n",
       "CC Security Code    0\n",
       "CC Provider         0\n",
       "Email               0\n",
       "Job                 0\n",
       "IP Address          0\n",
       "Language            0\n",
       "Purchase Price      0\n",
       "dtype: int64"
      ]
     },
     "execution_count": 6,
     "metadata": {},
     "output_type": "execute_result"
    }
   ],
   "source": [
    "data.isnull().sum()"
   ]
  },
  {
   "cell_type": "code",
   "execution_count": 7,
   "id": "0580a109",
   "metadata": {
    "execution": {
     "iopub.execute_input": "2023-11-09T11:45:18.921648Z",
     "iopub.status.busy": "2023-11-09T11:45:18.920826Z",
     "iopub.status.idle": "2023-11-09T11:45:18.928508Z",
     "shell.execute_reply": "2023-11-09T11:45:18.927231Z"
    },
    "papermill": {
     "duration": 0.02065,
     "end_time": "2023-11-09T11:45:18.930898",
     "exception": false,
     "start_time": "2023-11-09T11:45:18.910248",
     "status": "completed"
    },
    "tags": []
   },
   "outputs": [
    {
     "name": "stdout",
     "output_type": "stream",
     "text": [
      "(10000, 14)\n",
      "2\n",
      "140000\n",
      "Index(['Address', 'Lot', 'AM or PM', 'Browser Info', 'Company', 'Credit Card',\n",
      "       'CC Exp Date', 'CC Security Code', 'CC Provider', 'Email', 'Job',\n",
      "       'IP Address', 'Language', 'Purchase Price'],\n",
      "      dtype='object')\n",
      "10000\n"
     ]
    }
   ],
   "source": [
    "print(data.shape,data.ndim,data.size,sep=\"\\n\")\n",
    "print(data.columns,len(data),sep=\"\\n\")"
   ]
  },
  {
   "cell_type": "code",
   "execution_count": 8,
   "id": "5afa624e",
   "metadata": {
    "execution": {
     "iopub.execute_input": "2023-11-09T11:45:18.951248Z",
     "iopub.status.busy": "2023-11-09T11:45:18.950436Z",
     "iopub.status.idle": "2023-11-09T11:45:18.958647Z",
     "shell.execute_reply": "2023-11-09T11:45:18.957280Z"
    },
    "papermill": {
     "duration": 0.02118,
     "end_time": "2023-11-09T11:45:18.961068",
     "exception": false,
     "start_time": "2023-11-09T11:45:18.939888",
     "status": "completed"
    },
    "tags": []
   },
   "outputs": [
    {
     "name": "stdout",
     "output_type": "stream",
     "text": [
      "99.99\n",
      "0.0\n",
      "50.347302\n"
     ]
    }
   ],
   "source": [
    "data.columns\n",
    "print(data[\"Purchase Price\"].max())\n",
    "print(data[\"Purchase Price\"].min())\n",
    "print(data[\"Purchase Price\"].mean())"
   ]
  },
  {
   "cell_type": "code",
   "execution_count": 9,
   "id": "146bd9a4",
   "metadata": {
    "execution": {
     "iopub.execute_input": "2023-11-09T11:45:18.981621Z",
     "iopub.status.busy": "2023-11-09T11:45:18.980712Z",
     "iopub.status.idle": "2023-11-09T11:45:18.999042Z",
     "shell.execute_reply": "2023-11-09T11:45:18.998206Z"
    },
    "papermill": {
     "duration": 0.031159,
     "end_time": "2023-11-09T11:45:19.001242",
     "exception": false,
     "start_time": "2023-11-09T11:45:18.970083",
     "status": "completed"
    },
    "tags": []
   },
   "outputs": [
    {
     "data": {
      "text/plain": [
       "<bound method Series.count of 1             anthony41@reed.com\n",
       "19          ruiznicole@gmail.com\n",
       "53            amorales@yahoo.com\n",
       "76            eperez@hotmail.com\n",
       "82             amendez@yahoo.com\n",
       "                  ...           \n",
       "9941       christian55@gmail.com\n",
       "9947       josephsmith@gmail.com\n",
       "9951         cjennings@yahoo.com\n",
       "9977      daltoncarter@yahoo.com\n",
       "9980    mark74@kirby-stewart.org\n",
       "Name: Email, Length: 1097, dtype: object>"
      ]
     },
     "execution_count": 9,
     "metadata": {},
     "output_type": "execute_result"
    }
   ],
   "source": [
    "data.columns\n",
    "len(data[data[\"Language\"].isin([\"fr\"])][\"Email\"])\n",
    "#or\n",
    "data[data[\"Language\"].isin([\"fr\"])][\"Email\"].count\n",
    "\n",
    "\n"
   ]
  },
  {
   "cell_type": "code",
   "execution_count": 10,
   "id": "a4e0ad7a",
   "metadata": {
    "execution": {
     "iopub.execute_input": "2023-11-09T11:45:19.022610Z",
     "iopub.status.busy": "2023-11-09T11:45:19.021792Z",
     "iopub.status.idle": "2023-11-09T11:45:19.030413Z",
     "shell.execute_reply": "2023-11-09T11:45:19.029262Z"
    },
    "papermill": {
     "duration": 0.021919,
     "end_time": "2023-11-09T11:45:19.032957",
     "exception": false,
     "start_time": "2023-11-09T11:45:19.011038",
     "status": "completed"
    },
    "tags": []
   },
   "outputs": [
    {
     "data": {
      "text/plain": [
       "0       Scientist, product/process development\n",
       "1                            Drilling engineer\n",
       "2                     Customer service manager\n",
       "3                            Drilling engineer\n",
       "4                                  Fine artist\n",
       "                         ...                  \n",
       "9995                                Printmaker\n",
       "9996                           Energy engineer\n",
       "9997                        Veterinary surgeon\n",
       "9998                  Local government officer\n",
       "9999                    Embryologist, clinical\n",
       "Name: Job, Length: 10000, dtype: object"
      ]
     },
     "execution_count": 10,
     "metadata": {},
     "output_type": "execute_result"
    }
   ],
   "source": [
    "data.columns\n",
    "data[\"Job\"]"
   ]
  },
  {
   "cell_type": "code",
   "execution_count": 11,
   "id": "bbb55355",
   "metadata": {
    "execution": {
     "iopub.execute_input": "2023-11-09T11:45:19.053966Z",
     "iopub.status.busy": "2023-11-09T11:45:19.053482Z",
     "iopub.status.idle": "2023-11-09T11:45:19.079163Z",
     "shell.execute_reply": "2023-11-09T11:45:19.077797Z"
    },
    "papermill": {
     "duration": 0.039214,
     "end_time": "2023-11-09T11:45:19.081633",
     "exception": false,
     "start_time": "2023-11-09T11:45:19.042419",
     "status": "completed"
    },
    "tags": []
   },
   "outputs": [
    {
     "data": {
      "text/plain": [
       "<bound method DataFrame.count of                             Email                                  Job\n",
       "1              anthony41@reed.com                    Drilling engineer\n",
       "3     brent16@olson-robinson.info                    Drilling engineer\n",
       "50      susanvalentine@obrien.org                  Mechanical engineer\n",
       "55         adkinsarthur@yahoo.com  Engineer, broadcasting (operations)\n",
       "60        sweeneyhannah@jones.biz               Engineer, agricultural\n",
       "...                           ...                                  ...\n",
       "9948      haleybenjamin@gmail.com                  Structural engineer\n",
       "9952      jonesjennifer@olson.com                     Engineer, energy\n",
       "9970      rangelbrian@hotmail.com                  Electrical engineer\n",
       "9977       daltoncarter@yahoo.com                  Biomedical engineer\n",
       "9996           mary85@hotmail.com                      Energy engineer\n",
       "\n",
       "[984 rows x 2 columns]>"
      ]
     },
     "execution_count": 11,
     "metadata": {},
     "output_type": "execute_result"
    }
   ],
   "source": [
    "data[data[\"Job\"].str.contains(\"Engineer\",case=False)][[\"Email\",\"Job\"]].count"
   ]
  },
  {
   "cell_type": "code",
   "execution_count": 12,
   "id": "28501117",
   "metadata": {
    "execution": {
     "iopub.execute_input": "2023-11-09T11:45:19.103842Z",
     "iopub.status.busy": "2023-11-09T11:45:19.103098Z",
     "iopub.status.idle": "2023-11-09T11:45:19.115822Z",
     "shell.execute_reply": "2023-11-09T11:45:19.114559Z"
    },
    "papermill": {
     "duration": 0.026774,
     "end_time": "2023-11-09T11:45:19.118256",
     "exception": false,
     "start_time": "2023-11-09T11:45:19.091482",
     "status": "completed"
    },
    "tags": []
   },
   "outputs": [
    {
     "data": {
      "text/plain": [
       "2    amymiller@morales-harrison.com\n",
       "Name: Email, dtype: object"
      ]
     },
     "execution_count": 12,
     "metadata": {},
     "output_type": "execute_result"
    }
   ],
   "source": [
    "data.columns\n",
    "data[data[\"IP Address\"]==\"132.207.160.22\"][\"Email\"]"
   ]
  },
  {
   "cell_type": "code",
   "execution_count": 13,
   "id": "e4377bce",
   "metadata": {
    "execution": {
     "iopub.execute_input": "2023-11-09T11:45:19.140078Z",
     "iopub.status.busy": "2023-11-09T11:45:19.139639Z",
     "iopub.status.idle": "2023-11-09T11:45:19.167465Z",
     "shell.execute_reply": "2023-11-09T11:45:19.166197Z"
    },
    "papermill": {
     "duration": 0.041946,
     "end_time": "2023-11-09T11:45:19.170207",
     "exception": false,
     "start_time": "2023-11-09T11:45:19.128261",
     "status": "completed"
    },
    "tags": []
   },
   "outputs": [
    {
     "data": {
      "text/html": [
       "<div>\n",
       "<style scoped>\n",
       "    .dataframe tbody tr th:only-of-type {\n",
       "        vertical-align: middle;\n",
       "    }\n",
       "\n",
       "    .dataframe tbody tr th {\n",
       "        vertical-align: top;\n",
       "    }\n",
       "\n",
       "    .dataframe thead th {\n",
       "        text-align: right;\n",
       "    }\n",
       "</style>\n",
       "<table border=\"1\" class=\"dataframe\">\n",
       "  <thead>\n",
       "    <tr style=\"text-align: right;\">\n",
       "      <th></th>\n",
       "      <th>Purchase Price</th>\n",
       "      <th>CC Provider</th>\n",
       "      <th>Email</th>\n",
       "    </tr>\n",
       "  </thead>\n",
       "  <tbody>\n",
       "    <tr>\n",
       "      <th>1</th>\n",
       "      <td>70.73</td>\n",
       "      <td>Mastercard</td>\n",
       "      <td>anthony41@reed.com</td>\n",
       "    </tr>\n",
       "    <tr>\n",
       "      <th>18</th>\n",
       "      <td>70.15</td>\n",
       "      <td>Mastercard</td>\n",
       "      <td>hannah63@yahoo.com</td>\n",
       "    </tr>\n",
       "    <tr>\n",
       "      <th>31</th>\n",
       "      <td>94.14</td>\n",
       "      <td>Mastercard</td>\n",
       "      <td>ashley12@hotmail.com</td>\n",
       "    </tr>\n",
       "    <tr>\n",
       "      <th>35</th>\n",
       "      <td>97.46</td>\n",
       "      <td>Mastercard</td>\n",
       "      <td>hgonzalez@mcdowell.com</td>\n",
       "    </tr>\n",
       "    <tr>\n",
       "      <th>90</th>\n",
       "      <td>78.86</td>\n",
       "      <td>Mastercard</td>\n",
       "      <td>nrogers@brown.com</td>\n",
       "    </tr>\n",
       "    <tr>\n",
       "      <th>...</th>\n",
       "      <td>...</td>\n",
       "      <td>...</td>\n",
       "      <td>...</td>\n",
       "    </tr>\n",
       "    <tr>\n",
       "      <th>9941</th>\n",
       "      <td>60.03</td>\n",
       "      <td>Mastercard</td>\n",
       "      <td>christian55@gmail.com</td>\n",
       "    </tr>\n",
       "    <tr>\n",
       "      <th>9948</th>\n",
       "      <td>71.89</td>\n",
       "      <td>Mastercard</td>\n",
       "      <td>haleybenjamin@gmail.com</td>\n",
       "    </tr>\n",
       "    <tr>\n",
       "      <th>9954</th>\n",
       "      <td>87.15</td>\n",
       "      <td>Mastercard</td>\n",
       "      <td>brownamy@perkins.com</td>\n",
       "    </tr>\n",
       "    <tr>\n",
       "      <th>9981</th>\n",
       "      <td>63.61</td>\n",
       "      <td>Mastercard</td>\n",
       "      <td>laurenbennett@richards.com</td>\n",
       "    </tr>\n",
       "    <tr>\n",
       "      <th>9987</th>\n",
       "      <td>60.83</td>\n",
       "      <td>Mastercard</td>\n",
       "      <td>denisehamilton@novak.biz</td>\n",
       "    </tr>\n",
       "  </tbody>\n",
       "</table>\n",
       "<p>405 rows × 3 columns</p>\n",
       "</div>"
      ],
      "text/plain": [
       "      Purchase Price CC Provider                       Email\n",
       "1              70.73  Mastercard          anthony41@reed.com\n",
       "18             70.15  Mastercard          hannah63@yahoo.com\n",
       "31             94.14  Mastercard        ashley12@hotmail.com\n",
       "35             97.46  Mastercard      hgonzalez@mcdowell.com\n",
       "90             78.86  Mastercard           nrogers@brown.com\n",
       "...              ...         ...                         ...\n",
       "9941           60.03  Mastercard       christian55@gmail.com\n",
       "9948           71.89  Mastercard     haleybenjamin@gmail.com\n",
       "9954           87.15  Mastercard        brownamy@perkins.com\n",
       "9981           63.61  Mastercard  laurenbennett@richards.com\n",
       "9987           60.83  Mastercard    denisehamilton@novak.biz\n",
       "\n",
       "[405 rows x 3 columns]"
      ]
     },
     "execution_count": 13,
     "metadata": {},
     "output_type": "execute_result"
    }
   ],
   "source": [
    "data.columns\n",
    "data[(data[\"CC Provider\"].str.contains(\"Mastercard\",case=False) ) & (data[\"Purchase Price\"]>50)][[\"Purchase Price\",\"CC Provider\",\"Email\"]]"
   ]
  },
  {
   "cell_type": "code",
   "execution_count": 14,
   "id": "8867e5a0",
   "metadata": {
    "execution": {
     "iopub.execute_input": "2023-11-09T11:45:19.192686Z",
     "iopub.status.busy": "2023-11-09T11:45:19.192200Z",
     "iopub.status.idle": "2023-11-09T11:45:19.201845Z",
     "shell.execute_reply": "2023-11-09T11:45:19.200682Z"
    },
    "papermill": {
     "duration": 0.023586,
     "end_time": "2023-11-09T11:45:19.204184",
     "exception": false,
     "start_time": "2023-11-09T11:45:19.180598",
     "status": "completed"
    },
    "tags": []
   },
   "outputs": [
    {
     "data": {
      "text/plain": [
       "9992    bberry@wright.net\n",
       "Name: Email, dtype: object"
      ]
     },
     "execution_count": 14,
     "metadata": {},
     "output_type": "execute_result"
    }
   ],
   "source": [
    "data.columns\n",
    "data[data[\"Credit Card\"]==4664825258997302][\"Email\"]"
   ]
  },
  {
   "cell_type": "code",
   "execution_count": 15,
   "id": "c48dafe4",
   "metadata": {
    "execution": {
     "iopub.execute_input": "2023-11-09T11:45:19.227183Z",
     "iopub.status.busy": "2023-11-09T11:45:19.226801Z",
     "iopub.status.idle": "2023-11-09T11:45:19.248068Z",
     "shell.execute_reply": "2023-11-09T11:45:19.246851Z"
    },
    "papermill": {
     "duration": 0.035849,
     "end_time": "2023-11-09T11:45:19.250669",
     "exception": false,
     "start_time": "2023-11-09T11:45:19.214820",
     "status": "completed"
    },
    "tags": []
   },
   "outputs": [
    {
     "name": "stdout",
     "output_type": "stream",
     "text": [
      "4932 5068\n"
     ]
    },
    {
     "data": {
      "text/plain": [
       "AM or PM\n",
       "PM    5068\n",
       "AM    4932\n",
       "Name: count, dtype: int64"
      ]
     },
     "execution_count": 15,
     "metadata": {},
     "output_type": "execute_result"
    }
   ],
   "source": [
    "data.columns\n",
    "print(len(data[data[\"AM or PM\"]==\"AM\"][\"Email\"]),len(data[data[\"AM or PM\"]==\"PM\"][\"Email\"]))\n",
    "#or\n",
    "data[\"AM or PM\"].value_counts()"
   ]
  },
  {
   "cell_type": "code",
   "execution_count": 16,
   "id": "789c4276",
   "metadata": {
    "execution": {
     "iopub.execute_input": "2023-11-09T11:45:19.274152Z",
     "iopub.status.busy": "2023-11-09T11:45:19.273755Z",
     "iopub.status.idle": "2023-11-09T11:45:19.292952Z",
     "shell.execute_reply": "2023-11-09T11:45:19.291815Z"
    },
    "papermill": {
     "duration": 0.034195,
     "end_time": "2023-11-09T11:45:19.295484",
     "exception": false,
     "start_time": "2023-11-09T11:45:19.261289",
     "status": "completed"
    },
    "tags": []
   },
   "outputs": [
    {
     "data": {
      "text/plain": [
       "(988,)"
      ]
     },
     "execution_count": 16,
     "metadata": {},
     "output_type": "execute_result"
    }
   ],
   "source": [
    "data.columns\n",
    "data[data[\"CC Exp Date\"].str.match(r\"\\d*\\/20\")][\"Email\"].shape"
   ]
  },
  {
   "cell_type": "code",
   "execution_count": 17,
   "id": "d8d7977d",
   "metadata": {
    "execution": {
     "iopub.execute_input": "2023-11-09T11:45:19.319024Z",
     "iopub.status.busy": "2023-11-09T11:45:19.318644Z",
     "iopub.status.idle": "2023-11-09T11:45:19.342870Z",
     "shell.execute_reply": "2023-11-09T11:45:19.341398Z"
    },
    "papermill": {
     "duration": 0.039085,
     "end_time": "2023-11-09T11:45:19.345350",
     "exception": false,
     "start_time": "2023-11-09T11:45:19.306265",
     "status": "completed"
    },
    "tags": []
   },
   "outputs": [
    {
     "name": "stdout",
     "output_type": "stream",
     "text": [
      "988\n"
     ]
    }
   ],
   "source": [
    "data[data[\"CC Exp Date\"].str.match(r\"\\d*\\/20\")][\"Email\"].shape\n",
    "#or\n",
    "def match():\n",
    "    count=0\n",
    "    for _ in data[\"CC Exp Date\"]:\n",
    "        if _.split('/')[1]=='20':\n",
    "            count+=1\n",
    "    return count\n",
    "print(match())\n"
   ]
  },
  {
   "cell_type": "code",
   "execution_count": 18,
   "id": "2247cd8e",
   "metadata": {
    "execution": {
     "iopub.execute_input": "2023-11-09T11:45:19.369493Z",
     "iopub.status.busy": "2023-11-09T11:45:19.369076Z",
     "iopub.status.idle": "2023-11-09T11:45:19.385337Z",
     "shell.execute_reply": "2023-11-09T11:45:19.384408Z"
    },
    "papermill": {
     "duration": 0.031375,
     "end_time": "2023-11-09T11:45:19.387713",
     "exception": false,
     "start_time": "2023-11-09T11:45:19.356338",
     "status": "completed"
    },
    "tags": []
   },
   "outputs": [
    {
     "data": {
      "text/plain": [
       "(988, 14)"
      ]
     },
     "execution_count": 18,
     "metadata": {},
     "output_type": "execute_result"
    }
   ],
   "source": [
    "data[data[\"CC Exp Date\"].apply(lambda x:x[3:]=='20')].shape"
   ]
  },
  {
   "cell_type": "code",
   "execution_count": 19,
   "id": "467aa489",
   "metadata": {
    "execution": {
     "iopub.execute_input": "2023-11-09T11:45:19.411745Z",
     "iopub.status.busy": "2023-11-09T11:45:19.411312Z",
     "iopub.status.idle": "2023-11-09T11:45:19.420919Z",
     "shell.execute_reply": "2023-11-09T11:45:19.419575Z"
    },
    "papermill": {
     "duration": 0.024531,
     "end_time": "2023-11-09T11:45:19.423234",
     "exception": false,
     "start_time": "2023-11-09T11:45:19.398703",
     "status": "completed"
    },
    "tags": []
   },
   "outputs": [
    {
     "data": {
      "text/plain": [
       "0                    pdunlap@yahoo.com\n",
       "1                   anthony41@reed.com\n",
       "2       amymiller@morales-harrison.com\n",
       "3          brent16@olson-robinson.info\n",
       "4          christopherwright@gmail.com\n",
       "                     ...              \n",
       "9995            iscott@wade-garner.com\n",
       "9996                mary85@hotmail.com\n",
       "9997                 tyler16@gmail.com\n",
       "9998           elizabethmoore@reid.net\n",
       "9999             rachelford@vaughn.com\n",
       "Name: Email, Length: 10000, dtype: object"
      ]
     },
     "execution_count": 19,
     "metadata": {},
     "output_type": "execute_result"
    }
   ],
   "source": [
    "data.Email"
   ]
  },
  {
   "cell_type": "code",
   "execution_count": 20,
   "id": "2e71eb2f",
   "metadata": {
    "execution": {
     "iopub.execute_input": "2023-11-09T11:45:19.447960Z",
     "iopub.status.busy": "2023-11-09T11:45:19.447556Z",
     "iopub.status.idle": "2023-11-09T11:45:19.500929Z",
     "shell.execute_reply": "2023-11-09T11:45:19.499790Z"
    },
    "papermill": {
     "duration": 0.068774,
     "end_time": "2023-11-09T11:45:19.503811",
     "exception": false,
     "start_time": "2023-11-09T11:45:19.435037",
     "status": "completed"
    },
    "tags": []
   },
   "outputs": [
    {
     "data": {
      "text/plain": [
       "hotmail.com     1638\n",
       "yahoo.com       1616\n",
       "gmail.com       1605\n",
       "smith.com         42\n",
       "williams.com      37\n",
       "Name: count, dtype: int64"
      ]
     },
     "execution_count": 20,
     "metadata": {},
     "output_type": "execute_result"
    }
   ],
   "source": [
    "data.columns\n",
    "import re\n",
    "reexp=r'\\w*@(\\w*.com)'\n",
    "exp=re.compile(reexp)\n",
    "#lis=list(filter(None,map(lambda x:  exp.search(x).group(1),data[\"Email\"])))\n",
    "lis = list(filter(None, (exp.search(x) and exp.search(x).group(1) for x in data[\"Email\"])))\n",
    "\n",
    "\"\"\"\n",
    "the and operator is used to first check if exp.search(x) is not None.\n",
    "If it's not None, it proceeds to access .group(1) to extract the domain name.\n",
    "If exp.search(x) is None, the expression evaluates to None, and filter(None, ...) \n",
    "filters out these None values, preventing the AttributeError.\n",
    "\n",
    "Remember to replace the example data dictionary with your actual data\"\"\"\n",
    "lis=pd.Series(lis)\n",
    "lis.value_counts().sort_values(ascending=False)[:5]\n",
    "\n"
   ]
  },
  {
   "cell_type": "code",
   "execution_count": 21,
   "id": "23cdbfdf",
   "metadata": {
    "execution": {
     "iopub.execute_input": "2023-11-09T11:45:19.529037Z",
     "iopub.status.busy": "2023-11-09T11:45:19.528589Z",
     "iopub.status.idle": "2023-11-09T11:45:19.553433Z",
     "shell.execute_reply": "2023-11-09T11:45:19.552181Z"
    },
    "papermill": {
     "duration": 0.041367,
     "end_time": "2023-11-09T11:45:19.556514",
     "exception": false,
     "start_time": "2023-11-09T11:45:19.515147",
     "status": "completed"
    },
    "tags": []
   },
   "outputs": [
    {
     "data": {
      "text/plain": [
       "Email\n",
       "hotmail     1638\n",
       "yahoo       1616\n",
       "gmail       1605\n",
       "smith         69\n",
       "williams      55\n",
       "Name: count, dtype: int64"
      ]
     },
     "execution_count": 21,
     "metadata": {},
     "output_type": "execute_result"
    }
   ],
   "source": [
    "\n",
    "data[\"Email\"].apply(lambda x:x.split('@')[1].split('.')[0]).value_counts().sort_values(ascending=False)[:5]"
   ]
  }
 ],
 "metadata": {
  "kernelspec": {
   "display_name": "Python 3",
   "language": "python",
   "name": "python3"
  },
  "language_info": {
   "codemirror_mode": {
    "name": "ipython",
    "version": 3
   },
   "file_extension": ".py",
   "mimetype": "text/x-python",
   "name": "python",
   "nbconvert_exporter": "python",
   "pygments_lexer": "ipython3",
   "version": "3.10.12"
  },
  "papermill": {
   "default_parameters": {},
   "duration": 5.747992,
   "end_time": "2023-11-09T11:45:20.090361",
   "environment_variables": {},
   "exception": null,
   "input_path": "__notebook__.ipynb",
   "output_path": "__notebook__.ipynb",
   "parameters": {},
   "start_time": "2023-11-09T11:45:14.342369",
   "version": "2.4.0"
  }
 },
 "nbformat": 4,
 "nbformat_minor": 5
}
